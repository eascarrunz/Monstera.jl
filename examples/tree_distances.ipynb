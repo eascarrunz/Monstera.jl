{
 "cells": [
  {
   "cell_type": "markdown",
   "metadata": {},
   "source": [
    "Install the Monstera package from the repo."
   ]
  },
  {
   "cell_type": "code",
   "execution_count": 2,
   "metadata": {},
   "outputs": [
    {
     "name": "stderr",
     "output_type": "stream",
     "text": [
      "\u001b[32m\u001b[1m  Activating\u001b[22m\u001b[39m new project at `/run/user/1000/jl_FYsPtx`\n",
      "\u001b[32m\u001b[1m    Updating\u001b[22m\u001b[39m git-repo `https://github.com/eascarrunz/Monstera.jl`\n",
      "\u001b[32m\u001b[1m   Resolving\u001b[22m\u001b[39m package versions...\n",
      "\u001b[32m\u001b[1m    Updating\u001b[22m\u001b[39m `/run/user/1000/jl_FYsPtx/Project.toml`\n",
      "  \u001b[90m[cd3eb016] \u001b[39m\u001b[92m+ HTTP v1.10.5\u001b[39m\n",
      "  \u001b[90m[a7c66a61] \u001b[39m\u001b[92m+ Monstera v1.0.0-DEV `https://github.com/eascarrunz/Monstera.jl#main`\u001b[39m\n",
      "\u001b[32m\u001b[1m    Updating\u001b[22m\u001b[39m `/run/user/1000/jl_FYsPtx/Manifest.toml`\n",
      "  \u001b[90m[6e4b80f9] \u001b[39m\u001b[92m+ BenchmarkTools v1.5.0\u001b[39m\n",
      "  \u001b[90m[d1d4a3ce] \u001b[39m\u001b[92m+ BitFlags v0.1.8\u001b[39m\n",
      "  \u001b[90m[944b1d66] \u001b[39m\u001b[92m+ CodecZlib v0.7.4\u001b[39m\n",
      "  \u001b[90m[34da2185] \u001b[39m\u001b[92m+ Compat v4.14.0\u001b[39m\n",
      "  \u001b[90m[f0e56b4a] \u001b[39m\u001b[92m+ ConcurrentUtilities v2.4.1\u001b[39m\n",
      "  \u001b[90m[864edb3b] \u001b[39m\u001b[92m+ DataStructures v0.18.18\u001b[39m\n",
      "  \u001b[90m[460bff9d] \u001b[39m\u001b[92m+ ExceptionUnwrapping v0.1.10\u001b[39m\n",
      "  \u001b[90m[cd3eb016] \u001b[39m\u001b[92m+ HTTP v1.10.5\u001b[39m\n",
      "  \u001b[90m[692b3bcd] \u001b[39m\u001b[92m+ JLLWrappers v1.5.0\u001b[39m\n",
      "  \u001b[90m[682c06a0] \u001b[39m\u001b[92m+ JSON v0.21.4\u001b[39m\n",
      "  \u001b[90m[e6f89c97] \u001b[39m\u001b[92m+ LoggingExtras v1.0.3\u001b[39m\n",
      "  \u001b[90m[739be429] \u001b[39m\u001b[92m+ MbedTLS v1.1.9\u001b[39m\n",
      "  \u001b[90m[a7c66a61] \u001b[39m\u001b[92m+ Monstera v1.0.0-DEV `https://github.com/eascarrunz/Monstera.jl#main`\u001b[39m\n",
      "  \u001b[90m[4d8831e6] \u001b[39m\u001b[92m+ OpenSSL v1.4.2\u001b[39m\n",
      "  \u001b[90m[bac558e1] \u001b[39m\u001b[92m+ OrderedCollections v1.6.3\u001b[39m\n",
      "  \u001b[90m[69de0a69] \u001b[39m\u001b[92m+ Parsers v2.8.1\u001b[39m\n",
      "  \u001b[90m[aea7be01] \u001b[39m\u001b[92m+ PrecompileTools v1.2.1\u001b[39m\n",
      "  \u001b[90m[21216c6a] \u001b[39m\u001b[92m+ Preferences v1.4.3\u001b[39m\n",
      "  \u001b[90m[92933f4c] \u001b[39m\u001b[92m+ ProgressMeter v1.10.0\u001b[39m\n",
      "  \u001b[90m[777ac1f9] \u001b[39m\u001b[92m+ SimpleBufferStream v1.1.0\u001b[39m\n",
      "  \u001b[90m[3bb67fe8] \u001b[39m\u001b[92m+ TranscodingStreams v0.10.7\u001b[39m\n",
      "  \u001b[90m[5c2747f8] \u001b[39m\u001b[92m+ URIs v1.5.1\u001b[39m\n",
      "  \u001b[90m[458c3c95] \u001b[39m\u001b[92m+ OpenSSL_jll v3.0.13+1\u001b[39m\n",
      "  \u001b[90m[56f22d72] \u001b[39m\u001b[92m+ Artifacts\u001b[39m\n",
      "  \u001b[90m[2a0f44e3] \u001b[39m\u001b[92m+ Base64\u001b[39m\n",
      "  \u001b[90m[ade2ca70] \u001b[39m\u001b[92m+ Dates\u001b[39m\n",
      "  \u001b[90m[8ba89e20] \u001b[39m\u001b[92m+ Distributed\u001b[39m\n",
      "  \u001b[90m[b77e0a4c] \u001b[39m\u001b[92m+ InteractiveUtils\u001b[39m\n",
      "  \u001b[90m[8f399da3] \u001b[39m\u001b[92m+ Libdl\u001b[39m\n",
      "  \u001b[90m[37e2e46d] \u001b[39m\u001b[92m+ LinearAlgebra\u001b[39m\n",
      "  \u001b[90m[56ddb016] \u001b[39m\u001b[92m+ Logging\u001b[39m\n",
      "  \u001b[90m[d6f4376e] \u001b[39m\u001b[92m+ Markdown\u001b[39m\n",
      "  \u001b[90m[a63ad114] \u001b[39m\u001b[92m+ Mmap\u001b[39m\n",
      "  \u001b[90m[ca575930] \u001b[39m\u001b[92m+ NetworkOptions v1.2.0\u001b[39m\n",
      "  \u001b[90m[de0858da] \u001b[39m\u001b[92m+ Printf\u001b[39m\n",
      "  \u001b[90m[9abbd945] \u001b[39m\u001b[92m+ Profile\u001b[39m\n",
      "  \u001b[90m[9a3f8284] \u001b[39m\u001b[92m+ Random\u001b[39m\n",
      "  \u001b[90m[ea8e919c] \u001b[39m\u001b[92m+ SHA v0.7.0\u001b[39m\n",
      "  \u001b[90m[9e88b42a] \u001b[39m\u001b[92m+ Serialization\u001b[39m\n",
      "  \u001b[90m[6462fe0b] \u001b[39m\u001b[92m+ Sockets\u001b[39m\n",
      "  \u001b[90m[2f01184e] \u001b[39m\u001b[92m+ SparseArrays v1.10.0\u001b[39m\n",
      "  \u001b[90m[10745b16] \u001b[39m\u001b[92m+ Statistics v1.10.0\u001b[39m\n",
      "  \u001b[90m[fa267f1f] \u001b[39m\u001b[92m+ TOML v1.0.3\u001b[39m\n",
      "  \u001b[90m[8dfed614] \u001b[39m\u001b[92m+ Test\u001b[39m\n",
      "  \u001b[90m[cf7118a7] \u001b[39m\u001b[92m+ UUIDs\u001b[39m\n",
      "  \u001b[90m[4ec0a83e] \u001b[39m\u001b[92m+ Unicode\u001b[39m\n",
      "  \u001b[90m[e66e0078] \u001b[39m\u001b[92m+ CompilerSupportLibraries_jll v1.0.5+1\u001b[39m\n",
      "  \u001b[90m[c8ffd9c3] \u001b[39m\u001b[92m+ MbedTLS_jll v2.28.2+1\u001b[39m\n",
      "  \u001b[90m[14a3606d] \u001b[39m\u001b[92m+ MozillaCACerts_jll v2023.1.10\u001b[39m\n",
      "  \u001b[90m[4536629a] \u001b[39m\u001b[92m+ OpenBLAS_jll v0.3.23+2\u001b[39m\n",
      "  \u001b[90m[bea87d4a] \u001b[39m\u001b[92m+ SuiteSparse_jll v7.2.1+1\u001b[39m\n",
      "  \u001b[90m[83775a58] \u001b[39m\u001b[92m+ Zlib_jll v1.2.13+1\u001b[39m\n",
      "  \u001b[90m[8e850b90] \u001b[39m\u001b[92m+ libblastrampoline_jll v5.8.0+1\u001b[39m\n"
     ]
    }
   ],
   "source": [
    "import Pkg\n",
    "# activate a temporary environment\n",
    "Pkg.activate(mktempdir())\n",
    "Pkg.add([\n",
    "    Pkg.PackageSpec(name=\"Monstera\", url=\"https://github.com/eascarrunz/Monstera.jl\"),\n",
    "    Pkg.PackageSpec(name=\"HTTP\"),\n",
    "])\n",
    "using Monstera, HTTP;"
   ]
  },
  {
   "cell_type": "markdown",
   "metadata": {},
   "source": [
    "Initialise a taxon set. Node labels will be mapped to the names in the taxon set to assign taxon IDs to the nodes."
   ]
  },
  {
   "cell_type": "code",
   "execution_count": 3,
   "metadata": {},
   "outputs": [],
   "source": [
    "taxonset = TaxonSet();"
   ]
  },
  {
   "cell_type": "markdown",
   "metadata": {},
   "source": [
    "Download an MCMC sample of 1000 Newick trees with 567 taxa."
   ]
  },
  {
   "cell_type": "code",
   "execution_count": 4,
   "metadata": {},
   "outputs": [],
   "source": [
    "r = HTTP.get(\"https://raw.githubusercontent.com/eascarrunz/Monstera.jl/main/data/hashrftrees/567-taxa-1000-trees.tre\");\n",
    "io = IOBuffer(r.body);"
   ]
  },
  {
   "cell_type": "markdown",
   "metadata": {},
   "source": [
    "Parse the Newick trees and store them as `RoundaboutTree` objects in a vector. Passing `taxonset` automatically populates the taxon set based on the outer node labels and maps the nodes to numeric taxon IDs."
   ]
  },
  {
   "cell_type": "code",
   "execution_count": 5,
   "metadata": {},
   "outputs": [],
   "source": [
    "trees = Newick.read(io, Vector{RoundaboutTree}, taxonset);"
   ]
  },
  {
   "cell_type": "markdown",
   "metadata": {},
   "source": [
    "Call the `distance` function once for precompilation."
   ]
  },
  {
   "cell_type": "code",
   "execution_count": 6,
   "metadata": {},
   "outputs": [
    {
     "name": "stdout",
     "output_type": "stream",
     "text": [
      "  3.788873 seconds (5.34 M allocations: 365.658 MiB, 99.80% compilation time)\n"
     ]
    }
   ],
   "source": [
    "@time distance(trees[1:2], :ci);"
   ]
  },
  {
   "cell_type": "markdown",
   "metadata": {},
   "source": [
    "Compute the upper triangle of the clustering information distance matrix from the 100 trees. This takes about 1.4 seconds to run on a laptop with a Ryzen 7 6800HS CPU.\n",
    "\n",
    "The distances are currently computed as half the distances computed by `TreeDist`."
   ]
  },
  {
   "cell_type": "code",
   "execution_count": 13,
   "metadata": {},
   "outputs": [
    {
     "name": "stdout",
     "output_type": "stream",
     "text": [
      "  1.416917 seconds (1.19 M allocations: 256.535 MiB, 1.47% gc time)\n"
     ]
    },
    {
     "data": {
      "text/plain": [
       "100×100 Matrix{Float64}:\n",
       " 0.0  2.75633  4.4255   5.17554  …  4.8111   5.34417  5.6317   5.55706\n",
       " 0.0  0.0      4.49923  4.06133     4.71057  4.77044  4.91982  4.93409\n",
       " 0.0  0.0      0.0      4.89703     4.66354  5.17844  4.01575  3.96897\n",
       " 0.0  0.0      0.0      0.0         4.94567  4.63162  5.29632  4.90222\n",
       " 0.0  0.0      0.0      0.0         4.80733  4.59184  5.17149  4.86192\n",
       " 0.0  0.0      0.0      0.0      …  4.54137  4.56828  4.91127  4.88225\n",
       " 0.0  0.0      0.0      0.0         4.11695  4.15291  4.52128  4.45199\n",
       " 0.0  0.0      0.0      0.0         4.55311  4.70814  5.57567  5.68436\n",
       " 0.0  0.0      0.0      0.0         5.33933  5.12093  4.81288  5.39069\n",
       " 0.0  0.0      0.0      0.0         5.32373  5.11687  5.0614   5.49002\n",
       " ⋮                               ⋱                             \n",
       " 0.0  0.0      0.0      0.0         3.5857   3.81251  5.04693  5.05114\n",
       " 0.0  0.0      0.0      0.0         3.88784  3.97894  5.01491  5.33617\n",
       " 0.0  0.0      0.0      0.0         4.06022  4.00418  5.20242  5.43966\n",
       " 0.0  0.0      0.0      0.0         4.28886  3.9357   5.46395  5.15411\n",
       " 0.0  0.0      0.0      0.0      …  4.79434  5.31133  4.44549  4.17906\n",
       " 0.0  0.0      0.0      0.0         0.0      1.68329  4.48825  4.80442\n",
       " 0.0  0.0      0.0      0.0         0.0      0.0      4.94204  5.38956\n",
       " 0.0  0.0      0.0      0.0         0.0      0.0      0.0      3.29606\n",
       " 0.0  0.0      0.0      0.0         0.0      0.0      0.0      0.0"
      ]
     },
     "metadata": {},
     "output_type": "display_data"
    }
   ],
   "source": [
    "@time distance(trees[1:100], :ci)"
   ]
  },
  {
   "cell_type": "markdown",
   "metadata": {},
   "source": [
    "That matrix was computed based only on the biparitions that are different between each pair of trees. If we use all the bipartitions, it takes almost 1.5 minutes."
   ]
  },
  {
   "cell_type": "code",
   "execution_count": 8,
   "metadata": {},
   "outputs": [
    {
     "name": "stdout",
     "output_type": "stream",
     "text": [
      " 86.368022 seconds (1.21 M allocations: 11.985 GiB, 0.21% gc time, 0.05% compilation time)\n"
     ]
    },
    {
     "data": {
      "text/plain": [
       "100×100 Matrix{Float64}:\n",
       " 0.0  2.75633  4.4255   5.17554  …  4.8111   5.34417  5.6317   5.55706\n",
       " 0.0  0.0      4.49923  4.06133     4.71057  4.77044  4.91982  4.93409\n",
       " 0.0  0.0      0.0      4.89703     4.66354  5.17844  4.01575  3.96897\n",
       " 0.0  0.0      0.0      0.0         4.94567  4.63162  5.29632  4.90222\n",
       " 0.0  0.0      0.0      0.0         4.80733  4.59184  5.17149  4.86192\n",
       " 0.0  0.0      0.0      0.0      …  4.54137  4.56828  4.91127  4.88225\n",
       " 0.0  0.0      0.0      0.0         4.11695  4.15291  4.52128  4.45199\n",
       " 0.0  0.0      0.0      0.0         4.55311  4.70814  5.57567  5.68436\n",
       " 0.0  0.0      0.0      0.0         5.33933  5.12093  4.81288  5.39069\n",
       " 0.0  0.0      0.0      0.0         5.32373  5.11687  5.0614   5.49002\n",
       " ⋮                               ⋱                             \n",
       " 0.0  0.0      0.0      0.0         3.5857   3.81251  5.04693  5.05114\n",
       " 0.0  0.0      0.0      0.0         3.88784  3.97894  5.01491  5.33617\n",
       " 0.0  0.0      0.0      0.0         4.06022  4.00418  5.20242  5.43966\n",
       " 0.0  0.0      0.0      0.0         4.28886  3.9357   5.46395  5.15411\n",
       " 0.0  0.0      0.0      0.0      …  4.79434  5.31133  4.44549  4.17906\n",
       " 0.0  0.0      0.0      0.0         0.0      1.68329  4.48825  4.80442\n",
       " 0.0  0.0      0.0      0.0         0.0      0.0      4.94204  5.38956\n",
       " 0.0  0.0      0.0      0.0         0.0      0.0      0.0      3.29606\n",
       " 0.0  0.0      0.0      0.0         0.0      0.0      0.0      0.0"
      ]
     },
     "metadata": {},
     "output_type": "display_data"
    }
   ],
   "source": [
    "@time distance(trees[1:100], :ci; diffonly=false)"
   ]
  },
  {
   "cell_type": "markdown",
   "metadata": {},
   "source": [
    "The full 1000 tree matrix can be computed in about 4 minutes."
   ]
  },
  {
   "cell_type": "code",
   "execution_count": 9,
   "metadata": {},
   "outputs": [
    {
     "name": "stdout",
     "output_type": "stream",
     "text": [
      "231.245260 seconds (26.65 M allocations: 34.345 GiB, 0.37% gc time, 0.00% compilation time)\n"
     ]
    },
    {
     "data": {
      "text/plain": [
       "1000×1000 Matrix{Float64}:\n",
       " 0.0  2.75633  4.4255   5.17554  …  5.7205   5.72457  5.00139  5.02603\n",
       " 0.0  0.0      4.49923  4.06133     5.93423  6.02717  4.25524  5.78556\n",
       " 0.0  0.0      0.0      4.89703     5.65512  5.6913   5.41252  6.00769\n",
       " 0.0  0.0      0.0      0.0         5.88089  5.53748  4.78058  5.27086\n",
       " 0.0  0.0      0.0      0.0         5.33503  5.33298  4.86751  6.05797\n",
       " 0.0  0.0      0.0      0.0      …  5.104    4.72003  5.48905  6.38525\n",
       " 0.0  0.0      0.0      0.0         4.98434  4.51051  5.15777  6.71335\n",
       " 0.0  0.0      0.0      0.0         6.02888  6.21276  5.30559  5.46525\n",
       " 0.0  0.0      0.0      0.0         5.94724  6.03167  5.07     5.57064\n",
       " 0.0  0.0      0.0      0.0         6.05521  6.31313  5.22726  5.81831\n",
       " ⋮                               ⋱                             \n",
       " 0.0  0.0      0.0      0.0         4.63276  4.52476  4.23652  5.00938\n",
       " 0.0  0.0      0.0      0.0         4.77842  4.88525  4.6677   4.50058\n",
       " 0.0  0.0      0.0      0.0         4.86225  4.96468  4.60026  4.78825\n",
       " 0.0  0.0      0.0      0.0         4.24747  4.62426  4.49424  4.04527\n",
       " 0.0  0.0      0.0      0.0      …  5.25429  5.37529  5.11744  5.73999\n",
       " 0.0  0.0      0.0      0.0         0.0      1.81141  4.82717  5.60063\n",
       " 0.0  0.0      0.0      0.0         0.0      0.0      4.30585  5.47286\n",
       " 0.0  0.0      0.0      0.0         0.0      0.0      0.0      4.72278\n",
       " 0.0  0.0      0.0      0.0         0.0      0.0      0.0      0.0"
      ]
     },
     "metadata": {},
     "output_type": "display_data"
    }
   ],
   "source": [
    "@time distance(trees)"
   ]
  },
  {
   "cell_type": "markdown",
   "metadata": {},
   "source": [
    "The `distance` function also has a Robinson-Foulds mode. The matrix with 1000 trees takes about 2.6 seconds."
   ]
  },
  {
   "cell_type": "code",
   "execution_count": 10,
   "metadata": {},
   "outputs": [
    {
     "name": "stdout",
     "output_type": "stream",
     "text": [
      "  2.580908 seconds (14.17 M allocations: 4.711 GiB, 4.84% gc time)\n"
     ]
    },
    {
     "data": {
      "text/plain": [
       "1000×1000 Matrix{Int64}:\n",
       " 0  66  94  106  110  138  134  112  …  192  172  190  178  186  174  194\n",
       " 0   0  86   86   96  126  122  116     178  172  182  182  190  158  190\n",
       " 0   0   0   94  108  128  124  116     174  184  186  180  188  168  198\n",
       " 0   0   0    0   76  106   98  118     184  174  186  186  184  170  184\n",
       " 0   0   0    0    0   96   96  124     180  178  186  174  176  172  194\n",
       " 0   0   0    0    0    0   16  112  …  176  186  200  170  172  168  194\n",
       " 0   0   0    0    0    0    0  110     176  180  192  164  164  164  196\n",
       " 0   0   0    0    0    0    0    0     188  192  196  180  186  174  192\n",
       " 0   0   0    0    0    0    0    0     178  182  180  180  186  162  182\n",
       " 0   0   0    0    0    0    0    0     184  192  190  188  198  180  192\n",
       " ⋮                      ⋮            ⋱              ⋮                 \n",
       " 0   0   0    0    0    0    0    0      56  102  116  114  110  100  124\n",
       " 0   0   0    0    0    0    0    0      30   98  116  110  114  102  118\n",
       " 0   0   0    0    0    0    0    0       0  106  118  112  116  110  124\n",
       " 0   0   0    0    0    0    0    0       0    0   70  100  108  100  122\n",
       " 0   0   0    0    0    0    0    0  …    0    0    0  118  118   96  126\n",
       " 0   0   0    0    0    0    0    0       0    0    0    0   46  102  116\n",
       " 0   0   0    0    0    0    0    0       0    0    0    0    0   82  112\n",
       " 0   0   0    0    0    0    0    0       0    0    0    0    0    0  104\n",
       " 0   0   0    0    0    0    0    0       0    0    0    0    0    0    0"
      ]
     },
     "metadata": {},
     "output_type": "display_data"
    }
   ],
   "source": [
    "distance(trees[1:2], :rf)     # precompilation\t\n",
    "@time distance(trees, :rf)"
   ]
  }
 ],
 "metadata": {
  "kernelspec": {
   "display_name": "Julia 1.10.0",
   "language": "julia",
   "name": "julia-1.10"
  },
  "language_info": {
   "file_extension": ".jl",
   "mimetype": "application/julia",
   "name": "julia",
   "version": "1.10.0"
  }
 },
 "nbformat": 4,
 "nbformat_minor": 2
}
